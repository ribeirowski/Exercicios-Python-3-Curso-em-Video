{
 "cells": [
  {
   "cell_type": "markdown",
   "id": "31db6984",
   "metadata": {},
   "source": [
    "Criar um script que lê o dia, o mês e o ano de nascimento da pessoa e mostra uma mensagem com a data formatada"
   ]
  },
  {
   "cell_type": "code",
   "execution_count": 5,
   "id": "ed12ad6f",
   "metadata": {},
   "outputs": [
    {
     "name": "stdout",
     "output_type": "stream",
     "text": [
      "Digite o seu nome:Ênio\n",
      "Olá,  Ênio ! Seja muito bem-vindo(a)!\n",
      "---------------------------------------------------------\n",
      "Digite o dia que você nasceu:03\n",
      "Digite o mês que você nasceu:novembro\n",
      "Digite o ano que você nasceu:2020\n",
      "=========================================================\n",
      "Olá,  Ênio ! Você nasceu no dia 03 de novembro de 2020 .\n"
     ]
    }
   ],
   "source": [
    "name= input(\"Digite o seu nome:\")\n",
    "print(\"Olá, \", name, \"! Seja muito bem-vindo(a)!\")\n",
    "print(\"---------------------------------------------------------\")\n",
    "d = input(\"Digite o dia que você nasceu:\")\n",
    "m = input(\"Digite o mês que você nasceu:\")\n",
    "y = input(\"Digite o ano que você nasceu:\")\n",
    "print(\"=========================================================\")\n",
    "print(\"Olá, \", name, \"! Você nasceu no dia\", d, \"de\", m, \"de\", y,\".\")"
   ]
  }
 ],
 "metadata": {
  "kernelspec": {
   "display_name": "Python 3",
   "language": "python",
   "name": "python3"
  },
  "language_info": {
   "codemirror_mode": {
    "name": "ipython",
    "version": 3
   },
   "file_extension": ".py",
   "mimetype": "text/x-python",
   "name": "python",
   "nbconvert_exporter": "python",
   "pygments_lexer": "ipython3",
   "version": "3.8.5"
  }
 },
 "nbformat": 4,
 "nbformat_minor": 5
}
