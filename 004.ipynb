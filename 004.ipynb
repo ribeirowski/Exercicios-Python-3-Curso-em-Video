{
 "cells": [
  {
   "cell_type": "markdown",
   "id": "31db6984",
   "metadata": {},
   "source": [
    "Criar um script que lê dois números e mostra a soma entre eles"
   ]
  },
  {
   "cell_type": "code",
   "execution_count": 7,
   "id": "ed12ad6f",
   "metadata": {
    "scrolled": true
   },
   "outputs": [
    {
     "name": "stdout",
     "output_type": "stream",
     "text": [
      "Digite o seu nome:Ênio\n",
      "Olá,  Ênio ! Seja muito bem-vindo(a)!\n",
      "----------------------------------------------------------------------------------\n",
      "Digite um número:100\n",
      "Digite outro número:6\n",
      "==================================================================================\n",
      "Olá,  Ênio ! Você escolheu os números: 100.0 e 6.0 . A soma deles é igual a 106.0 .\n"
     ]
    }
   ],
   "source": [
    "name= input(\"Digite o seu nome:\")\n",
    "print(\"Olá, \", name, \"! Seja muito bem-vindo(a)!\")\n",
    "print(\"----------------------------------------------------------------------------------\")\n",
    "n1 = float(input(\"Digite um número:\"))\n",
    "n2 = float(input(\"Digite outro número:\"))\n",
    "soma = n1 + n2\n",
    "print(\"==================================================================================\")\n",
    "print(\"Olá, \", name, \"! Você escolheu os números:\", n1, \"e\", n2, \". A soma deles é igual a\", soma,\".\")"
   ]
  }
 ],
 "metadata": {
  "kernelspec": {
   "display_name": "Python 3",
   "language": "python",
   "name": "python3"
  },
  "language_info": {
   "codemirror_mode": {
    "name": "ipython",
    "version": 3
   },
   "file_extension": ".py",
   "mimetype": "text/x-python",
   "name": "python",
   "nbconvert_exporter": "python",
   "pygments_lexer": "ipython3",
   "version": "3.8.5"
  }
 },
 "nbformat": 4,
 "nbformat_minor": 5
}
