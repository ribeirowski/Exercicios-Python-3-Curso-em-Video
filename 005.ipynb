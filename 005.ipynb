{
 "cells": [
  {
   "cell_type": "markdown",
   "id": "31db6984",
   "metadata": {},
   "source": [
    "Criar programa que lê algo teclado e mostra o seu tipo primitivo e todas as informações possíveis sobre ele"
   ]
  },
  {
   "cell_type": "code",
   "execution_count": 7,
   "id": "ed12ad6f",
   "metadata": {
    "scrolled": true
   },
   "outputs": [
    {
     "name": "stdout",
     "output_type": "stream",
     "text": [
      "Digite algo: \n",
      "  é do tipo: <class 'str'>\n",
      "  é numérico? False\n",
      "  é alfabético? False\n",
      "  é alfanumérico? False\n",
      "  é maiúsculo? False\n",
      "  é minúsculo? False\n",
      "  é imprimível? True\n",
      "  é um espaço em branco? True\n"
     ]
    }
   ],
   "source": [
    "algo= input(\"Digite algo:\")\n",
    "print(\"{} é do tipo:\".format(algo), type(algo))\n",
    "print(\"{} é numérico?\".format(algo), algo.isnumeric())\n",
    "print(\"{} é alfabético?\".format(algo), algo.isalpha())\n",
    "print(\"{} é alfanumérico?\".format(algo), algo.isalnum())\n",
    "print(\"{} é maiúsculo?\".format(algo), algo.isupper())\n",
    "print(\"{} é minúsculo?\".format(algo), algo.islower())\n",
    "print(\"{} é imprimível?\".format(algo), algo.isprintable())\n",
    "print(\"{} é um espaço em branco?\".format(algo), algo.isspace())"
   ]
  }
 ],
 "metadata": {
  "kernelspec": {
   "display_name": "Python 3",
   "language": "python",
   "name": "python3"
  },
  "language_info": {
   "codemirror_mode": {
    "name": "ipython",
    "version": 3
   },
   "file_extension": ".py",
   "mimetype": "text/x-python",
   "name": "python",
   "nbconvert_exporter": "python",
   "pygments_lexer": "ipython3",
   "version": "3.8.5"
  }
 },
 "nbformat": 4,
 "nbformat_minor": 5
}
