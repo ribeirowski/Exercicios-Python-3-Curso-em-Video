{
 "cells": [
  {
   "cell_type": "markdown",
   "id": "31db6984",
   "metadata": {},
   "source": [
    "Ler o preço de um produto e mostrar o novo preço com um desconto de 5%"
   ]
  },
  {
   "cell_type": "code",
   "execution_count": 3,
   "id": "ed12ad6f",
   "metadata": {},
   "outputs": [
    {
     "name": "stdout",
     "output_type": "stream",
     "text": [
      "Digite o seu nome:Ênio\n",
      "Olá,  Ênio ! Seja muito bem-vindo(a)!\n",
      "------------------------------------------------------------------\n",
      "Digite o preço do produto (R$):100\n",
      "==================================================================\n",
      "Olá, Ênio! O valor do produto é R$100.0. Com o desconto de R$5.0 (5%) o valor agora é R$95.0.\n"
     ]
    }
   ],
   "source": [
    "name= input(\"Digite o seu nome:\")\n",
    "print(\"Olá, \", name, \"! Seja muito bem-vindo(a)!\")\n",
    "print(\"------------------------------------------------------------------\")\n",
    "preco = float(input(\"Digite o preço do produto (R$):\"))\n",
    "desconto = float(preco*0.05)\n",
    "valor = preco - desconto\n",
    "print(\"==================================================================\")\n",
    "print(\"Olá, {}! O valor do produto é R${}. Com o desconto de R${} (5%) o valor agora é R${}.\".format(name, preco, desconto, valor))"
   ]
  }
 ],
 "metadata": {
  "kernelspec": {
   "display_name": "Python 3",
   "language": "python",
   "name": "python3"
  },
  "language_info": {
   "codemirror_mode": {
    "name": "ipython",
    "version": 3
   },
   "file_extension": ".py",
   "mimetype": "text/x-python",
   "name": "python",
   "nbconvert_exporter": "python",
   "pygments_lexer": "ipython3",
   "version": "3.8.5"
  }
 },
 "nbformat": 4,
 "nbformat_minor": 5
}
