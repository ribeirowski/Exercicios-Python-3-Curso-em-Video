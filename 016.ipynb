{
 "cells": [
  {
   "cell_type": "markdown",
   "id": "31db6984",
   "metadata": {},
   "source": [
    "Ler a quantidade de KM e dias rodados por um carro alugado e calcular o valor a pagar pelo aluguel (R$60,00 por dia e R$0,15 por KM)"
   ]
  },
  {
   "cell_type": "code",
   "execution_count": 2,
   "id": "ed12ad6f",
   "metadata": {},
   "outputs": [
    {
     "name": "stdout",
     "output_type": "stream",
     "text": [
      "Digite o seu nome:Ênio\n",
      "Olá,  Ênio ! Seja muito bem-vindo(a)!\n",
      "------------------------------------------------------------------\n",
      "Para calcular o valor do aluguel, precisamos dos seguintes dados:\n",
      "Digite quantos KM foram rodados:5.5\n",
      "Digite quantos dias passou com o carro:10\n",
      "==================================================================\n",
      "Olá, Ênio! Você rodou 5.5 km e passou 10 dias com o carro, portanto o aluguel custou: R$600.825\n"
     ]
    }
   ],
   "source": [
    "name= input(\"Digite o seu nome:\")\n",
    "print(\"Olá, \", name, \"! Seja muito bem-vindo(a)!\")\n",
    "print(\"------------------------------------------------------------------\")\n",
    "print(\"Para calcular o valor do aluguel, precisamos dos seguintes dados:\")\n",
    "km = float(input(\"Digite quantos KM foram rodados:\"))\n",
    "dia = int(input(\"Digite quantos dias passou com o carro:\"))\n",
    "aluguel = (km*0.15+dia*60)\n",
    "print(\"==================================================================\")\n",
    "print(\"Olá, {}! Você rodou {} km e passou {} dias com o carro, portanto o aluguel custou: R${}\".format(name, km, dia, aluguel))"
   ]
  }
 ],
 "metadata": {
  "kernelspec": {
   "display_name": "Python 3",
   "language": "python",
   "name": "python3"
  },
  "language_info": {
   "codemirror_mode": {
    "name": "ipython",
    "version": 3
   },
   "file_extension": ".py",
   "mimetype": "text/x-python",
   "name": "python",
   "nbconvert_exporter": "python",
   "pygments_lexer": "ipython3",
   "version": "3.8.5"
  }
 },
 "nbformat": 4,
 "nbformat_minor": 5
}
