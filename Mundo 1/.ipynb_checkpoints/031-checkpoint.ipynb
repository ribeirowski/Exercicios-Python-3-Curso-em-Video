{
 "cells": [
  {
   "cell_type": "markdown",
   "metadata": {},
   "source": [
    "Desenvolva um programa que pergunte a distância de uma viagem em km. Calcule o preço da passagem, cobrando R$0,50 por km para viagens de até 200km e R$0,45 para viagens mais longas."
   ]
  },
  {
   "cell_type": "code",
   "execution_count": 3,
   "metadata": {
    "scrolled": true
   },
   "outputs": [
    {
     "name": "stdout",
     "output_type": "stream",
     "text": [
      "Digite a distância da viagem: 1000\n",
      "O valor da viagem é R$450.00\n"
     ]
    }
   ],
   "source": [
    "distancia = float(input(\"Digite a distância da viagem: \"))\n",
    "if distancia<200:\n",
    "    distancia = distancia*0.5\n",
    "    print(\"O valor da viagem é R${:.2f}\" .format(distancia))\n",
    "else:\n",
    "    distancia = distancia*0.45\n",
    "    print(\"O valor da viagem é R${:.2f}\" .format(distancia))"
   ]
  }
 ],
 "metadata": {
  "kernelspec": {
   "display_name": "Python 3",
   "language": "python",
   "name": "python3"
  },
  "language_info": {
   "codemirror_mode": {
    "name": "ipython",
    "version": 3
   },
   "file_extension": ".py",
   "mimetype": "text/x-python",
   "name": "python",
   "nbconvert_exporter": "python",
   "pygments_lexer": "ipython3",
   "version": "3.7.3"
  }
 },
 "nbformat": 4,
 "nbformat_minor": 5
}
