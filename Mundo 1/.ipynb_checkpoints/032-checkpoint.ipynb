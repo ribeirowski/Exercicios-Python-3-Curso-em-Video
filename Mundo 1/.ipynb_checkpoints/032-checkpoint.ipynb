{
 "cells": [
  {
   "cell_type": "markdown",
   "metadata": {},
   "source": [
    "Faça um programa que leia um ano qualquer e mostre se ele é BISSEXTO."
   ]
  },
  {
   "cell_type": "code",
   "execution_count": 2,
   "metadata": {},
   "outputs": [
    {
     "name": "stdout",
     "output_type": "stream",
     "text": [
      "Digite o ano: 2001\n",
      "Não é ano bissexto!\n"
     ]
    }
   ],
   "source": [
    "ano = int(input(\"Digite o ano: \"))\n",
    "if (ano%4==0 and ano%100!=0) or ano%400==0:\n",
    "    print(\"É ano bissexto!\")\n",
    "else:\n",
    "    print(\"Não é ano bissexto!\")"
   ]
  }
 ],
 "metadata": {
  "kernelspec": {
   "display_name": "Python 3",
   "language": "python",
   "name": "python3"
  },
  "language_info": {
   "codemirror_mode": {
    "name": "ipython",
    "version": 3
   },
   "file_extension": ".py",
   "mimetype": "text/x-python",
   "name": "python",
   "nbconvert_exporter": "python",
   "pygments_lexer": "ipython3",
   "version": "3.7.3"
  }
 },
 "nbformat": 4,
 "nbformat_minor": 5
}
