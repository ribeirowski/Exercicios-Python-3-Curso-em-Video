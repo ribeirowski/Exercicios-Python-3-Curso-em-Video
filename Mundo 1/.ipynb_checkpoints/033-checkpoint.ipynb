{
 "cells": [
  {
   "cell_type": "markdown",
   "metadata": {},
   "source": [
    "Faça um programa que leia três números e mostre qual é o maior e qual é o menor."
   ]
  },
  {
   "cell_type": "code",
   "execution_count": 3,
   "metadata": {},
   "outputs": [
    {
     "name": "stdout",
     "output_type": "stream",
     "text": [
      "Digite um número: 5\n",
      "Digite outro número: 4\n",
      "Digite outro número: 9\n",
      "O maior número é:  9.0\n",
      "O menor número é:  4.0\n"
     ]
    }
   ],
   "source": [
    "num1 = float(input(\"Digite um número: \"))\n",
    "num2 = float(input(\"Digite outro número: \"))\n",
    "num3 = float(input(\"Digite outro número: \"))\n",
    "if num1>num2 and num1>num3:\n",
    "    print(\"O maior número é: \", num1)\n",
    "if num2>num1 and num2>num3:\n",
    "    print(\"O maior número é: \", num2)\n",
    "if num3>num1 and num3>num2:\n",
    "    print(\"O maior número é: \", num3)\n",
    "if num1<num2 and num1<num3:\n",
    "    print(\"O menor número é: \", num1)\n",
    "if num2<num1 and num2<num3:\n",
    "    print(\"O menor número é: \", num2)\n",
    "if num3<num1 and num3<num2:\n",
    "    print(\"O menor número é: \", num3)"
   ]
  }
 ],
 "metadata": {
  "kernelspec": {
   "display_name": "Python 3",
   "language": "python",
   "name": "python3"
  },
  "language_info": {
   "codemirror_mode": {
    "name": "ipython",
    "version": 3
   },
   "file_extension": ".py",
   "mimetype": "text/x-python",
   "name": "python",
   "nbconvert_exporter": "python",
   "pygments_lexer": "ipython3",
   "version": "3.7.3"
  }
 },
 "nbformat": 4,
 "nbformat_minor": 5
}
