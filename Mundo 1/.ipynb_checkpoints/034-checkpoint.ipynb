{
 "cells": [
  {
   "cell_type": "markdown",
   "metadata": {},
   "source": [
    "Escreva um programa que pergunte o salário de um funcionário e calcule o valor do seu aumento. Para salários superiores a R$1.250,00, calcule um aumento de 10%. Para os inferiores ou iguais, o aumento é de 15%."
   ]
  },
  {
   "cell_type": "code",
   "execution_count": 12,
   "metadata": {
    "scrolled": true
   },
   "outputs": [
    {
     "name": "stdout",
     "output_type": "stream",
     "text": [
      "Digite o salário: 2000\n",
      "O valor do aumento é R$200.00 e o novo salário fica R$2200.00.\n"
     ]
    }
   ],
   "source": [
    "salario = float(input(\"Digite o salário: \"))\n",
    "if salario>1250:\n",
    "    aumento = 0.1*salario\n",
    "    salario = salario + aumento\n",
    "    print(\"O valor do aumento é R${:.2f} e o novo salário fica R${:.2f}.\" .format(aumento, salario))\n",
    "else:\n",
    "    aumento = 0.15*salario\n",
    "    salario = salario + aumento\n",
    "    print(\"O valor do aumento é R${:.2f} e o novo salário fica R${:.2f}.\" .format(aumento, salario))"
   ]
  }
 ],
 "metadata": {
  "kernelspec": {
   "display_name": "Python 3",
   "language": "python",
   "name": "python3"
  },
  "language_info": {
   "codemirror_mode": {
    "name": "ipython",
    "version": 3
   },
   "file_extension": ".py",
   "mimetype": "text/x-python",
   "name": "python",
   "nbconvert_exporter": "python",
   "pygments_lexer": "ipython3",
   "version": "3.7.3"
  }
 },
 "nbformat": 4,
 "nbformat_minor": 5
}
