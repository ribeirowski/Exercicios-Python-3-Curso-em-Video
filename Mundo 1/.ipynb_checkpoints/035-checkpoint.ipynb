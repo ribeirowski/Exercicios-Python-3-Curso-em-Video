{
 "cells": [
  {
   "cell_type": "markdown",
   "metadata": {},
   "source": [
    "Desenvolva um programa que leia o comprimento de três retas e diga ao usuário se elas podem ou não formar um triângulo."
   ]
  },
  {
   "cell_type": "code",
   "execution_count": 6,
   "metadata": {},
   "outputs": [
    {
     "name": "stdout",
     "output_type": "stream",
     "text": [
      "Digite o primeiro lado: 3\n",
      "Digite o segundo lado: 4\n",
      "Digite o terceiro lado: 5\n",
      "Isto é um triângulo!\n"
     ]
    }
   ],
   "source": [
    "a = float(input(\"Digite o primeiro lado: \"))\n",
    "b= float(input(\"Digite o segundo lado: \"))\n",
    "c = float(input(\"Digite o terceiro lado: \"))\n",
    "if a<(b+c) and b<(a+c) and c<(a+b):\n",
    "    print(\"Isto é um triângulo!\")\n",
    "else:\n",
    "    print(\"Impossível ser um triângulo!\")"
   ]
  }
 ],
 "metadata": {
  "kernelspec": {
   "display_name": "Python 3",
   "language": "python",
   "name": "python3"
  },
  "language_info": {
   "codemirror_mode": {
    "name": "ipython",
    "version": 3
   },
   "file_extension": ".py",
   "mimetype": "text/x-python",
   "name": "python",
   "nbconvert_exporter": "python",
   "pygments_lexer": "ipython3",
   "version": "3.7.3"
  }
 },
 "nbformat": 4,
 "nbformat_minor": 5
}
