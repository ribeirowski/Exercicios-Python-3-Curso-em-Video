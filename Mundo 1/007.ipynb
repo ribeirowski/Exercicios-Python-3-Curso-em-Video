{
 "cells": [
  {
   "cell_type": "markdown",
   "id": "31db6984",
   "metadata": {},
   "source": [
    "Ler duas notas de um aluno e calcular e mostrar sua média"
   ]
  },
  {
   "cell_type": "code",
   "execution_count": 4,
   "id": "ed12ad6f",
   "metadata": {},
   "outputs": [
    {
     "name": "stdout",
     "output_type": "stream",
     "text": [
      "Digite o seu nome:Ênio\n",
      "Olá,  Ênio ! Seja muito bem-vindo(a)!\n",
      "---------------------------------------------------------\n",
      "Digite a sua primeira nota:10\n",
      "Digite a sua segunda nota:8\n",
      "=========================================================\n",
      "Parabéns, Ênio! A sua média foi 9.0.\n"
     ]
    }
   ],
   "source": [
    "name= input(\"Digite o seu nome:\")\n",
    "print(\"Olá, \", name, \"! Seja muito bem-vindo(a)!\")\n",
    "print(\"---------------------------------------------------------\")\n",
    "n1= float(input(\"Digite a sua primeira nota:\"))\n",
    "n2= float(input(\"Digite a sua segunda nota:\"))\n",
    "media= (n1+n2)/2\n",
    "print(\"=========================================================\")\n",
    "print(\"Parabéns, {}! A sua média foi {}.\".format(name, media))"
   ]
  }
 ],
 "metadata": {
  "kernelspec": {
   "display_name": "Python 3",
   "language": "python",
   "name": "python3"
  },
  "language_info": {
   "codemirror_mode": {
    "name": "ipython",
    "version": 3
   },
   "file_extension": ".py",
   "mimetype": "text/x-python",
   "name": "python",
   "nbconvert_exporter": "python",
   "pygments_lexer": "ipython3",
   "version": "3.8.5"
  }
 },
 "nbformat": 4,
 "nbformat_minor": 5
}
