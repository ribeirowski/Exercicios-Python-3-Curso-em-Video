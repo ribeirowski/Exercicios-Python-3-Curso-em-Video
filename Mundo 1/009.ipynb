{
 "cells": [
  {
   "cell_type": "markdown",
   "id": "31db6984",
   "metadata": {},
   "source": [
    "Ler um número inteiro e mostrar a sua tabuada"
   ]
  },
  {
   "cell_type": "code",
   "execution_count": 8,
   "id": "ed12ad6f",
   "metadata": {},
   "outputs": [
    {
     "name": "stdout",
     "output_type": "stream",
     "text": [
      "Digite o seu nome:Ênio \n",
      "Olá,  Ênio  ! Seja muito bem-vindo(a)!\n",
      "-------------------------------------------------------------------\n",
      "Digite um qualquer número inteiro:3\n",
      "===================================================================\n",
      "Olá, Ênio ! O seu número é 3 e essa é a sua tabuada:\n",
      "3 x 0 = 0\n",
      "3 x 1 = 3\n",
      "3 x 2 = 6\n",
      "3 x 3 = 9\n",
      "3 x 4 = 12\n",
      "3 x 5 = 15\n",
      "3 x 6 = 18\n",
      "3 x 7 = 21\n",
      "3 x 8 = 24\n",
      "3 x 9 = 27\n",
      "3 x 10 = 30\n"
     ]
    }
   ],
   "source": [
    "name= input(\"Digite o seu nome:\")\n",
    "print(\"Olá, \", name, \"! Seja muito bem-vindo(a)!\")\n",
    "print(\"-------------------------------------------------------------------\")\n",
    "n = int(input(\"Digite um qualquer número inteiro:\"))\n",
    "print(\"===================================================================\")\n",
    "print(\"Olá, {}! O seu número é {} e essa é a sua tabuada:\".format(name, n))\n",
    "print(\"{} x 0 =\".format(n), n*0)\n",
    "print(\"{} x 1 =\".format(n), n*1)\n",
    "print(\"{} x 2 =\".format(n), n*2)\n",
    "print(\"{} x 3 =\".format(n), n*3)\n",
    "print(\"{} x 4 =\".format(n), n*4)\n",
    "print(\"{} x 5 =\".format(n), n*5)\n",
    "print(\"{} x 6 =\".format(n), n*6)\n",
    "print(\"{} x 7 =\".format(n), n*7)\n",
    "print(\"{} x 8 =\".format(n), n*8)\n",
    "print(\"{} x 9 =\".format(n), n*9)\n",
    "print(\"{} x 10 =\".format(n), n*10)"
   ]
  }
 ],
 "metadata": {
  "kernelspec": {
   "display_name": "Python 3",
   "language": "python",
   "name": "python3"
  },
  "language_info": {
   "codemirror_mode": {
    "name": "ipython",
    "version": 3
   },
   "file_extension": ".py",
   "mimetype": "text/x-python",
   "name": "python",
   "nbconvert_exporter": "python",
   "pygments_lexer": "ipython3",
   "version": "3.8.5"
  }
 },
 "nbformat": 4,
 "nbformat_minor": 5
}
