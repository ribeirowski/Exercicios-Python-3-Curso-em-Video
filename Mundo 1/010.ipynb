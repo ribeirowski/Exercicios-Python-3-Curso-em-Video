{
 "cells": [
  {
   "cell_type": "markdown",
   "id": "31db6984",
   "metadata": {},
   "source": [
    "Ler quanto dinheiro a pessoa tem na carteira e quantos dólares ela pode comprar (Taxa de Conversão: US$1,00=R$5,31 em 19/05/2021)"
   ]
  },
  {
   "cell_type": "code",
   "execution_count": 3,
   "id": "ed12ad6f",
   "metadata": {},
   "outputs": [
    {
     "name": "stdout",
     "output_type": "stream",
     "text": [
      "Digite o seu nome:Ênio\n",
      "Olá,  Ênio ! Seja muito bem-vindo(a)!\n",
      "-----------------------------------------------------------------------------------------\n",
      "Digite o valor que você tem na sua carteira:100\n",
      "=========================================================================================\n",
      "Olá, Ênio! Você tem R$100.0 na carteira, com isso você pode comprar US$18.832391713747647.\n"
     ]
    }
   ],
   "source": [
    "name= input(\"Digite o seu nome:\")\n",
    "print(\"Olá, \", name, \"! Seja muito bem-vindo(a)!\")\n",
    "print(\"-----------------------------------------------------------------------------------------\")\n",
    "real = float(input(\"Digite o valor que você tem na sua carteira:\"))\n",
    "cambio = 5.31\n",
    "dolar = real/cambio\n",
    "print(\"=========================================================================================\")\n",
    "print(\"Olá, {}! Você tem R${} na carteira, com isso você pode comprar US${}.\".format(name, real, dolar))"
   ]
  }
 ],
 "metadata": {
  "kernelspec": {
   "display_name": "Python 3",
   "language": "python",
   "name": "python3"
  },
  "language_info": {
   "codemirror_mode": {
    "name": "ipython",
    "version": 3
   },
   "file_extension": ".py",
   "mimetype": "text/x-python",
   "name": "python",
   "nbconvert_exporter": "python",
   "pygments_lexer": "ipython3",
   "version": "3.8.5"
  }
 },
 "nbformat": 4,
 "nbformat_minor": 5
}
