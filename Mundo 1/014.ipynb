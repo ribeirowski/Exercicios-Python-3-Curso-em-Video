{
 "cells": [
  {
   "cell_type": "markdown",
   "id": "31db6984",
   "metadata": {},
   "source": [
    "Ler uma temperatura em graus celsius e convertê-la para graus fahrenheit"
   ]
  },
  {
   "cell_type": "code",
   "execution_count": 4,
   "id": "ed12ad6f",
   "metadata": {
    "scrolled": false
   },
   "outputs": [
    {
     "name": "stdout",
     "output_type": "stream",
     "text": [
      "Digite o seu nome:Ênio\n",
      "Olá,  Ênio ! Seja muito bem-vindo(a)!\n",
      "------------------------------------------------------------------\n",
      "Digite a temperatura atual, em graus Celsius:100\n",
      "==================================================================\n",
      "Olá, Ênio! A temperatura atual é de 100.0 graus Celsius, ou seja, 212.0 graus Fahrenheit.\n"
     ]
    }
   ],
   "source": [
    "name= input(\"Digite o seu nome:\")\n",
    "print(\"Olá, \", name, \"! Seja muito bem-vindo(a)!\")\n",
    "print(\"------------------------------------------------------------------\")\n",
    "celsius = float(input(\"Digite a temperatura atual, em graus Celsius:\"))\n",
    "fahrenheit = float(((9*celsius)+160)/5)\n",
    "print(\"==================================================================\")\n",
    "print(\"Olá, {}! A temperatura atual é de {} graus Celsius, ou seja, {} graus Fahrenheit.\".format(name, celsius, fahrenheit))"
   ]
  }
 ],
 "metadata": {
  "kernelspec": {
   "display_name": "Python 3",
   "language": "python",
   "name": "python3"
  },
  "language_info": {
   "codemirror_mode": {
    "name": "ipython",
    "version": 3
   },
   "file_extension": ".py",
   "mimetype": "text/x-python",
   "name": "python",
   "nbconvert_exporter": "python",
   "pygments_lexer": "ipython3",
   "version": "3.8.5"
  }
 },
 "nbformat": 4,
 "nbformat_minor": 5
}
