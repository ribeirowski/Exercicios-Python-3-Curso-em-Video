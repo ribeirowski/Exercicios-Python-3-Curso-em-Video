{
 "cells": [
  {
   "cell_type": "markdown",
   "metadata": {},
   "source": [
    "Crie um programa que leia um número real qualquer pelo teclado e mostre na tela a sua porção inteira."
   ]
  },
  {
   "cell_type": "code",
   "execution_count": 4,
   "metadata": {},
   "outputs": [
    {
     "name": "stdout",
     "output_type": "stream",
     "text": [
      "Digite um número (real):8.994\n",
      "-----------------------------------\n",
      "A porção inteira de 8.994 é: 8\n"
     ]
    }
   ],
   "source": [
    "import math\n",
    "n = float(input(\"Digite um número (real):\"))\n",
    "m = math.floor(n)\n",
    "print(\"-----------------------------------\")\n",
    "print(\"A porção inteira de {} é: {}\".format(n, m))"
   ]
  }
 ],
 "metadata": {
  "kernelspec": {
   "display_name": "Python 3",
   "language": "python",
   "name": "python3"
  },
  "language_info": {
   "codemirror_mode": {
    "name": "ipython",
    "version": 3
   },
   "file_extension": ".py",
   "mimetype": "text/x-python",
   "name": "python",
   "nbconvert_exporter": "python",
   "pygments_lexer": "ipython3",
   "version": "3.7.3"
  }
 },
 "nbformat": 4,
 "nbformat_minor": 5
}
