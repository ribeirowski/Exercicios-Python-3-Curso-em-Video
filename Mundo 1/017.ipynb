{
 "cells": [
  {
   "cell_type": "code",
   "execution_count": null,
   "id": "0ccd4ee4",
   "metadata": {},
   "outputs": [],
   "source": [
    "Faça um programa que leia o comprimento do cateto oposto e do cateto adjacente de um triângulo retângulo, calcule e mostre o comprimento da hipotenusa."
   ]
  },
  {
   "cell_type": "code",
   "execution_count": 8,
   "id": "beab62f1",
   "metadata": {},
   "outputs": [
    {
     "name": "stdout",
     "output_type": "stream",
     "text": [
      "Digite o valor do cateto oposto:4\n",
      "Digite o valor do cateto adjacente:3\n",
      "-----------------------------------------------\n",
      "De acordo com o Teorema de Pitagoras, o valor da hipotenusa desse triângulo é: 5.0\n"
     ]
    }
   ],
   "source": [
    "import math\n",
    "co = float(input(\"Digite o valor do cateto oposto:\"))\n",
    "ca = float(input(\"Digite o valor do cateto adjacente:\"))\n",
    "hip = math.hypot(co, ca)\n",
    "print(\"-----------------------------------------------\")\n",
    "print(\"De acordo com o Teorema de Pitagoras, o valor da hipotenusa desse triângulo é: {:.1f}\".format(hip))"
   ]
  },
  {
   "cell_type": "code",
   "execution_count": null,
   "id": "95751cae",
   "metadata": {},
   "outputs": [],
   "source": []
  }
 ],
 "metadata": {
  "kernelspec": {
   "display_name": "Python 3",
   "language": "python",
   "name": "python3"
  },
  "language_info": {
   "codemirror_mode": {
    "name": "ipython",
    "version": 3
   },
   "file_extension": ".py",
   "mimetype": "text/x-python",
   "name": "python",
   "nbconvert_exporter": "python",
   "pygments_lexer": "ipython3",
   "version": "3.8.5"
  }
 },
 "nbformat": 4,
 "nbformat_minor": 5
}
