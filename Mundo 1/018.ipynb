{
 "cells": [
  {
   "cell_type": "code",
   "execution_count": null,
   "id": "4d4ed075",
   "metadata": {},
   "outputs": [],
   "source": [
    "Faça um programa que leia um ângulo qualquer e mostre na tela o valor do seno, cosseno e tangente desse ângulo."
   ]
  },
  {
   "cell_type": "code",
   "execution_count": 6,
   "id": "6114436d",
   "metadata": {},
   "outputs": [
    {
     "name": "stdout",
     "output_type": "stream",
     "text": [
      "Digite o valor do ângulo, em graus:45\n",
      "-----------------------------------------------\n",
      "O ângulo escolhido foi 45°. O seno desse ângulo é: 0.71; O cosseno é: 0.71; A tangente é: 1.00.\n"
     ]
    }
   ],
   "source": [
    "import math\n",
    "angulo = math.floor(float(input(\"Digite o valor do ângulo, em graus:\")))\n",
    "rad = math.radians(angulo)\n",
    "sen = math.sin(rad)\n",
    "coss = math.cos(rad)\n",
    "tang = math.tan(rad)\n",
    "print(\"-----------------------------------------------\")\n",
    "print(\"O ângulo escolhido foi {}°. O seno desse ângulo é: {:.2f}; O cosseno é: {:.2f}; A tangente é: {:.2f}.\".format(angulo, sen, coss, tang))"
   ]
  },
  {
   "cell_type": "code",
   "execution_count": null,
   "id": "239e1aed",
   "metadata": {},
   "outputs": [],
   "source": []
  }
 ],
 "metadata": {
  "kernelspec": {
   "display_name": "Python 3",
   "language": "python",
   "name": "python3"
  },
  "language_info": {
   "codemirror_mode": {
    "name": "ipython",
    "version": 3
   },
   "file_extension": ".py",
   "mimetype": "text/x-python",
   "name": "python",
   "nbconvert_exporter": "python",
   "pygments_lexer": "ipython3",
   "version": "3.8.5"
  }
 },
 "nbformat": 4,
 "nbformat_minor": 5
}
