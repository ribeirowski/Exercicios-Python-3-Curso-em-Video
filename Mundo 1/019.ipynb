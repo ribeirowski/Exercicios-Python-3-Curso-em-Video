{
 "cells": [
  {
   "cell_type": "markdown",
   "metadata": {},
   "source": [
    "Um professor quer sortear um dos seus quatro alunos para apagar o quadro. Faça um programa que ajude ele, lendo o nome deles e escrevendo o nome do escolhido."
   ]
  },
  {
   "cell_type": "code",
   "execution_count": 5,
   "metadata": {
    "scrolled": true
   },
   "outputs": [
    {
     "name": "stdout",
     "output_type": "stream",
     "text": [
      "Digite o nome do 1° aluno:aa\n",
      "Digite o nome do 2° aluno:bb\n",
      "Digite o nome do 3° aluno:cc\n",
      "Digite o nome do 4° aluno:dd\n",
      "-----------------------------------------------\n",
      "Os alunos selecionados foram: aa, bb, cc e dd.\n",
      "O aluno escolhido dentro os 4 é: aa\n"
     ]
    }
   ],
   "source": [
    "import random\n",
    "a = input(\"Digite o nome do 1° aluno:\")\n",
    "b = input(\"Digite o nome do 2° aluno:\")\n",
    "c = input(\"Digite o nome do 3° aluno:\")\n",
    "d = input(\"Digite o nome do 4° aluno:\")\n",
    "e = [a, b, c, d]\n",
    "f = random.choice(e)\n",
    "print(\"-----------------------------------------------\")\n",
    "print(\"Os alunos selecionados foram: {}, {}, {} e {}.\".format(a,b,c,d))\n",
    "print(\"O aluno escolhido dentro os 4 é: {}\".format(f))"
   ]
  },
  {
   "cell_type": "code",
   "execution_count": null,
   "metadata": {},
   "outputs": [],
   "source": []
  }
 ],
 "metadata": {
  "kernelspec": {
   "display_name": "Python 3",
   "language": "python",
   "name": "python3"
  },
  "language_info": {
   "codemirror_mode": {
    "name": "ipython",
    "version": 3
   },
   "file_extension": ".py",
   "mimetype": "text/x-python",
   "name": "python",
   "nbconvert_exporter": "python",
   "pygments_lexer": "ipython3",
   "version": "3.7.3"
  }
 },
 "nbformat": 4,
 "nbformat_minor": 5
}
