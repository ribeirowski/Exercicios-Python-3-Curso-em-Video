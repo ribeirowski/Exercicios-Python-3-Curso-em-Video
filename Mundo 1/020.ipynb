{
 "cells": [
  {
   "cell_type": "code",
   "execution_count": null,
   "id": "eecd2a21",
   "metadata": {},
   "outputs": [],
   "source": [
    "O mesmo professor do desafio anterior quer sortear a ordem de apresentação de trabalhos dos alunos. Faça um programa que leia o nome dos quatro alunos e mostre a ordem sorteada."
   ]
  },
  {
   "cell_type": "code",
   "execution_count": 14,
   "id": "b4d8cb1c",
   "metadata": {},
   "outputs": [
    {
     "name": "stdout",
     "output_type": "stream",
     "text": [
      "Digite o nome do 1° aluno:Ênio\n",
      "Digite o nome do 2° aluno:Maria\n",
      "Digite o nome do 3° aluno:José\n",
      "Digite o nome do 4° aluno:Luana\n",
      "--------------------------------------------------------\n",
      "Os alunos selecionados foram: Ênio, Maria, José e Luana.\n",
      "--------------------------------------------------------\n",
      "- O(A) primeiro(a) a apresentar do trabalho será: Luana\n",
      "- O(A) segundo(a) a apresentar do trabalho será: Ênio\n",
      "- O(A) terceiro(a) a apresentar do trabalho será: Maria\n",
      "- O(A) quarto(a) a apresentar do trabalho será: José\n"
     ]
    }
   ],
   "source": [
    "import random\n",
    "a = input(\"Digite o nome do 1° aluno:\")\n",
    "b = input(\"Digite o nome do 2° aluno:\")\n",
    "c = input(\"Digite o nome do 3° aluno:\")\n",
    "d = input(\"Digite o nome do 4° aluno:\")\n",
    "e = [a, b, c, d]\n",
    "f = random.sample(e, k=4)\n",
    "print(\"--------------------------------------------------------\")\n",
    "print(\"Os alunos selecionados foram: {}, {}, {} e {}.\".format(a,b,c,d))\n",
    "print(\"--------------------------------------------------------\")\n",
    "print(\"- O(A) primeiro(a) a apresentar do trabalho será: {}\".format(f[0]))\n",
    "print(\"- O(A) segundo(a) a apresentar do trabalho será: {}\".format(f[1]))\n",
    "print(\"- O(A) terceiro(a) a apresentar do trabalho será: {}\".format(f[2]))\n",
    "print(\"- O(A) quarto(a) a apresentar do trabalho será: {}\".format(f[3]))"
   ]
  },
  {
   "cell_type": "code",
   "execution_count": null,
   "id": "f0bf9d04",
   "metadata": {},
   "outputs": [],
   "source": []
  }
 ],
 "metadata": {
  "kernelspec": {
   "display_name": "Python 3",
   "language": "python",
   "name": "python3"
  },
  "language_info": {
   "codemirror_mode": {
    "name": "ipython",
    "version": 3
   },
   "file_extension": ".py",
   "mimetype": "text/x-python",
   "name": "python",
   "nbconvert_exporter": "python",
   "pygments_lexer": "ipython3",
   "version": "3.8.5"
  }
 },
 "nbformat": 4,
 "nbformat_minor": 5
}
