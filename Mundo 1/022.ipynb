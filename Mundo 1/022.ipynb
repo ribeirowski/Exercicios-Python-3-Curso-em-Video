{
 "cells": [
  {
   "cell_type": "markdown",
   "metadata": {},
   "source": [
    "<b>Crie um programa que leia o nome completo de uma pessoa e mostre:</b>\n",
    "<br>\n",
    "– O nome com todas as letras maiúsculas e minúsculas.\n",
    "<br>\n",
    "– Quantas letras ao todo (sem considerar espaços).\n",
    "<br>\n",
    "– Quantas letras tem o primeiro nome."
   ]
  },
  {
   "cell_type": "code",
   "execution_count": 19,
   "metadata": {},
   "outputs": [
    {
     "name": "stdout",
     "output_type": "stream",
     "text": [
      "Digite seu nome completo: Ênio Henrique Nunes Ribeiro\n",
      "---------------------------------------------------------------\n",
      "Obrigado!\n",
      "---------------------------------------------------------------\n",
      "- O seu nome completo é: Ênio Henrique Nunes Ribeiro.\n",
      "- O seu nome completo em letras maiúsculas é: ÊNIO HENRIQUE NUNES RIBEIRO.\n",
      "- O seu nome completo em letras minúsculas é: ênio henrique nunes ribeiro.\n",
      "- O seu nome completo tem 24 letras, sem considerar os espaços.\n",
      "- O seu primeiro nome é Ênio, que tem 4 letras.\n"
     ]
    }
   ],
   "source": [
    "name = input(\"Digite seu nome completo: \")\n",
    "print(\"---------------------------------------------------------------\")\n",
    "print(\"Obrigado!\")\n",
    "print(\"---------------------------------------------------------------\")\n",
    "print(\"- O seu nome completo é: {}.\".format(name.strip()))\n",
    "print(\"- O seu nome completo em letras maiúsculas é: {}.\".format(name.strip().upper()))\n",
    "print(\"- O seu nome completo em letras minúsculas é: {}.\".format(name.strip().lower()))\n",
    "replace = name.replace(\" \", \"\")\n",
    "length = len(replace) \n",
    "print(\"- O seu nome completo tem {} letras, sem considerar os espaços.\".format(length))\n",
    "split = name.split()\n",
    "first = split[0]\n",
    "letra = len(first)\n",
    "print(\"- O seu primeiro nome é {}, que tem {} letras.\".format(first, letra))"
   ]
  },
  {
   "cell_type": "code",
   "execution_count": null,
   "metadata": {},
   "outputs": [],
   "source": []
  }
 ],
 "metadata": {
  "kernelspec": {
   "display_name": "Python 3",
   "language": "python",
   "name": "python3"
  },
  "language_info": {
   "codemirror_mode": {
    "name": "ipython",
    "version": 3
   },
   "file_extension": ".py",
   "mimetype": "text/x-python",
   "name": "python",
   "nbconvert_exporter": "python",
   "pygments_lexer": "ipython3",
   "version": "3.7.3"
  }
 },
 "nbformat": 4,
 "nbformat_minor": 5
}
