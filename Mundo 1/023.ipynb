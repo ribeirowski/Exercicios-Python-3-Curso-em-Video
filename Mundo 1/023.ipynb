{
 "cells": [
  {
   "cell_type": "markdown",
   "metadata": {},
   "source": [
    "Faça um programa que leia um número de 0 a 9999 e mostre na tela cada um dos dígitos separados."
   ]
  },
  {
   "cell_type": "code",
   "execution_count": 28,
   "metadata": {
    "scrolled": true
   },
   "outputs": [
    {
     "name": "stdout",
     "output_type": "stream",
     "text": [
      "Digite um número inteiro, de 0 a 9999: 8\n",
      "------------------------------------------------\n",
      "Obrigado!\n",
      "------------------------------------------------\n",
      "O número escolhido foi: 8\n",
      "- Unidade: 8\n",
      "- Dezena: 0\n",
      "- Centena: 0\n",
      "- Milhar: 0\n"
     ]
    }
   ],
   "source": [
    "number = int(input(\"Digite um número inteiro, de 0 a 9999: \"))\n",
    "print(\"------------------------------------------------\")\n",
    "print(\"Obrigado!\")\n",
    "print(\"------------------------------------------------\")\n",
    "print(\"O número escolhido foi: {}\".format(number))\n",
    "uni = number // 1 % 10\n",
    "dez = number // 10 % 10\n",
    "cen = number // 100 % 10\n",
    "mil = number // 1000 % 10\n",
    "print(\"- Unidade: {}\".format(uni))\n",
    "print(\"- Dezena: {}\".format(dez))\n",
    "print(\"- Centena: {}\".format(cen))\n",
    "print(\"- Milhar: {}\".format(mil))"
   ]
  },
  {
   "cell_type": "code",
   "execution_count": null,
   "metadata": {},
   "outputs": [],
   "source": []
  }
 ],
 "metadata": {
  "kernelspec": {
   "display_name": "Python 3",
   "language": "python",
   "name": "python3"
  },
  "language_info": {
   "codemirror_mode": {
    "name": "ipython",
    "version": 3
   },
   "file_extension": ".py",
   "mimetype": "text/x-python",
   "name": "python",
   "nbconvert_exporter": "python",
   "pygments_lexer": "ipython3",
   "version": "3.7.3"
  }
 },
 "nbformat": 4,
 "nbformat_minor": 2
}
