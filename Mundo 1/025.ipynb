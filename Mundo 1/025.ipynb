{
 "cells": [
  {
   "cell_type": "markdown",
   "metadata": {},
   "source": [
    "Crie um programa que leia o nome de uma pessoa e diga se ela tem “SILVA” no nome."
   ]
  },
  {
   "cell_type": "code",
   "execution_count": 8,
   "metadata": {},
   "outputs": [
    {
     "name": "stdout",
     "output_type": "stream",
     "text": [
      "Digite o seu nome completo: enio henrique\n",
      "Você tem nome ou sobrenome Silva? False\n"
     ]
    }
   ],
   "source": [
    "name = input(\"Digite o seu nome completo: \")\n",
    "name2 = name.lower().strip()\n",
    "name3 = name2.split()\n",
    "name4 = \"silva\" in name3\n",
    "print(\"Você tem nome ou sobrenome Silva? {}\".format(name4))"
   ]
  },
  {
   "cell_type": "code",
   "execution_count": null,
   "metadata": {},
   "outputs": [],
   "source": []
  }
 ],
 "metadata": {
  "kernelspec": {
   "display_name": "Python 3",
   "language": "python",
   "name": "python3"
  },
  "language_info": {
   "codemirror_mode": {
    "name": "ipython",
    "version": 3
   },
   "file_extension": ".py",
   "mimetype": "text/x-python",
   "name": "python",
   "nbconvert_exporter": "python",
   "pygments_lexer": "ipython3",
   "version": "3.7.3"
  }
 },
 "nbformat": 4,
 "nbformat_minor": 2
}
