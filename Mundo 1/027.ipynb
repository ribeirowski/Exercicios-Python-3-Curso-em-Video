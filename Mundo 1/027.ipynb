{
 "cells": [
  {
   "cell_type": "markdown",
   "metadata": {},
   "source": [
    "Faça um programa que leia o nome completo de uma pessoa, mostrando em seguida o primeiro e o último nome separadamente."
   ]
  },
  {
   "cell_type": "code",
   "execution_count": 7,
   "metadata": {},
   "outputs": [
    {
     "name": "stdout",
     "output_type": "stream",
     "text": [
      "Digite seu nome completo: jose rodrigues de sá nunes souza moura ribeiro junior\n",
      "---------------------------------------------------------------\n",
      "Obrigado!\n",
      "---------------------------------------------------------------\n",
      "- O seu nome completo é: jose rodrigues de sá nunes souza moura ribeiro junior.\n",
      "- O seu primeiro nome é: Jose.\n",
      "- O seu último nome é: Junior.\n"
     ]
    }
   ],
   "source": [
    "name = input(\"Digite seu nome completo: \")\n",
    "print(\"---------------------------------------------------------------\")\n",
    "print(\"Obrigado!\")\n",
    "print(\"---------------------------------------------------------------\")\n",
    "split = name.split()\n",
    "first = split[0]\n",
    "length = len(split)\n",
    "last = split[length - 1]\n",
    "print(\"- O seu nome completo é: {}.\".format(name.strip()))\n",
    "print(\"- O seu primeiro nome é: {}.\".format(first.strip().capitalize()))\n",
    "print(\"- O seu último nome é: {}.\".format(last.strip().capitalize()))"
   ]
  },
  {
   "cell_type": "code",
   "execution_count": null,
   "metadata": {},
   "outputs": [],
   "source": []
  }
 ],
 "metadata": {
  "kernelspec": {
   "display_name": "Python 3",
   "language": "python",
   "name": "python3"
  },
  "language_info": {
   "codemirror_mode": {
    "name": "ipython",
    "version": 3
   },
   "file_extension": ".py",
   "mimetype": "text/x-python",
   "name": "python",
   "nbconvert_exporter": "python",
   "pygments_lexer": "ipython3",
   "version": "3.7.3"
  }
 },
 "nbformat": 4,
 "nbformat_minor": 2
}
