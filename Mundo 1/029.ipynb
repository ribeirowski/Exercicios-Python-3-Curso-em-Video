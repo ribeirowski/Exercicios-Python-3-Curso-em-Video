{
 "cells": [
  {
   "cell_type": "markdown",
   "metadata": {},
   "source": [
    "Escreva um programa que leia a velocidade de um carro. Se ela ultrapassar 80km/h, mostre uma mensagem dizendo que ele foi multado. A multa vai custar R$7,00 por cada Km acima do limite."
   ]
  },
  {
   "cell_type": "code",
   "execution_count": 3,
   "metadata": {},
   "outputs": [
    {
     "name": "stdout",
     "output_type": "stream",
     "text": [
      "Digite a velocidade do carro: 100\n",
      "Você está acima do limite de velocidade, tome uma multa de R$140.00!\n"
     ]
    }
   ],
   "source": [
    "velCar = float(input(\"Digite a velocidade do carro: \"))\n",
    "if velCar>80:\n",
    "    velCar = velCar - 80\n",
    "    multa = 7*velCar\n",
    "    print(\"Você está acima do limite de velocidade, tome uma multa de R${:.2f}!\" .format(multa))\n",
    "else:\n",
    "    print(\"Parabéns, você é um bom motorista!\")"
   ]
  }
 ],
 "metadata": {
  "kernelspec": {
   "display_name": "Python 3",
   "language": "python",
   "name": "python3"
  },
  "language_info": {
   "codemirror_mode": {
    "name": "ipython",
    "version": 3
   },
   "file_extension": ".py",
   "mimetype": "text/x-python",
   "name": "python",
   "nbconvert_exporter": "python",
   "pygments_lexer": "ipython3",
   "version": "3.7.3"
  }
 },
 "nbformat": 4,
 "nbformat_minor": 2
}
