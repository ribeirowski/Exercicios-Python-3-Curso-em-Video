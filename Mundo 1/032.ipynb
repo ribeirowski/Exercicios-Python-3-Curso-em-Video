{
 "cells": [
  {
   "cell_type": "markdown",
   "id": "ded902a5",
   "metadata": {},
   "source": [
    "Faça um programa que leia um ano qualquer e mostre se ele é BISSEXTO."
   ]
  },
  {
   "cell_type": "code",
   "execution_count": null,
   "id": "caef8ed4",
   "metadata": {},
   "outputs": [],
   "source": []
  }
 ],
 "metadata": {
  "kernelspec": {
   "display_name": "Python 3 (ipykernel)",
   "language": "python",
   "name": "python3"
  },
  "language_info": {
   "codemirror_mode": {
    "name": "ipython",
    "version": 3
   },
   "file_extension": ".py",
   "mimetype": "text/x-python",
   "name": "python",
   "nbconvert_exporter": "python",
   "pygments_lexer": "ipython3",
   "version": "3.10.0"
  }
 },
 "nbformat": 4,
 "nbformat_minor": 5
}
