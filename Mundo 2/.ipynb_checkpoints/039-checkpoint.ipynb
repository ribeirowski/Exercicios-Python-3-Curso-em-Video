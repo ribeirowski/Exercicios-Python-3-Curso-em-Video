{
 "cells": [
  {
   "cell_type": "markdown",
   "id": "01cbc828",
   "metadata": {},
   "source": [
    "Faça um programa que leia o ano de nascimento de um jovem e informe, de acordo com a sua idade, se ele ainda vai se alistar ao serviço militar, se é a hora exata de se alistar ou se já passou do tempo do alistamento. Seu programa também deverá mostrar o tempo que falta ou que passou do prazo."
   ]
  },
  {
   "cell_type": "code",
   "execution_count": null,
   "id": "8e723d68",
   "metadata": {
    "scrolled": true
   },
   "outputs": [],
   "source": [
    "ano = int(input(\"Ano de nascimento: \"))\n",
    "alistar = 2022 - ano\n",
    "prazo = alistar - 18\n",
    "if alistar > 18 and prazo > 0:\n",
    "    print(f\"Já passou do tempo do alistamento. Você está {prazo} anos atrasado.\")\n",
    "elif alistar == 18:\n",
    "    print(\"Está na hora exata de se alistar!\")\n",
    "else:\n",
    "    print(f\"Você ainda não tem idade para se alistar. Faltam {prazo * -1} anos.\")"
   ]
  },
  {
   "cell_type": "code",
   "execution_count": null,
   "id": "5582e81a",
   "metadata": {},
   "outputs": [],
   "source": []
  }
 ],
 "metadata": {
  "kernelspec": {
   "display_name": "Python 3 (ipykernel)",
   "language": "python",
   "name": "python3"
  },
  "language_info": {
   "codemirror_mode": {
    "name": "ipython",
    "version": 3
   },
   "file_extension": ".py",
   "mimetype": "text/x-python",
   "name": "python",
   "nbconvert_exporter": "python",
   "pygments_lexer": "ipython3",
   "version": "3.10.6"
  }
 },
 "nbformat": 4,
 "nbformat_minor": 5
}
