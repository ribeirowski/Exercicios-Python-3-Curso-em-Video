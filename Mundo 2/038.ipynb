{
 "cells": [
  {
   "cell_type": "markdown",
   "id": "01cbc828",
   "metadata": {},
   "source": [
    "Escreva um programa que leia dois números inteiros e compare-os. mostrando na tela uma mensagem:\n",
    "- O primeiro valor é maior\n",
    "- O segundo valor é maior\n",
    "- Não existe valor maior, os dois são iguais"
   ]
  },
  {
   "cell_type": "code",
   "execution_count": null,
   "id": "8e723d68",
   "metadata": {},
   "outputs": [],
   "source": [
    "num1 = int(input(\"Primeiro valor: \"))\n",
    "num2 = int(input(\"Segundo valor: \"))\n",
    "if num1 > num2:\n",
    "    print(\"O primeiro valor é maior\")\n",
    "elif num1 < num2:\n",
    "    print(\"O segundo valor é maior\")\n",
    "else:\n",
    "    print(\"Não existe valor maior, os dois são iguais\")"
   ]
  },
  {
   "cell_type": "code",
   "execution_count": null,
   "id": "f66b947d",
   "metadata": {},
   "outputs": [],
   "source": []
  }
 ],
 "metadata": {
  "kernelspec": {
   "display_name": "Python 3 (ipykernel)",
   "language": "python",
   "name": "python3"
  },
  "language_info": {
   "codemirror_mode": {
    "name": "ipython",
    "version": 3
   },
   "file_extension": ".py",
   "mimetype": "text/x-python",
   "name": "python",
   "nbconvert_exporter": "python",
   "pygments_lexer": "ipython3",
   "version": "3.10.6"
  }
 },
 "nbformat": 4,
 "nbformat_minor": 5
}
