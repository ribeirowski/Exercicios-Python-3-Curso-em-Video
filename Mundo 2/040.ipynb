{
 "cells": [
  {
   "cell_type": "markdown",
   "id": "01cbc828",
   "metadata": {},
   "source": [
    "Crie um programa que leia duas notas de um aluno e calcule sua média, mostrando uma mensagem no final, de acordo com a média atingida:\n",
    "- Média abaixo de 5.0: REPROVADO\n",
    "- Média entre 5.0 e 6.9: RECUPERAÇÃO\n",
    "- Média 7.0 ou superior: APROVADO"
   ]
  },
  {
   "cell_type": "code",
   "execution_count": null,
   "id": "8e723d68",
   "metadata": {},
   "outputs": [],
   "source": [
    "nota1 = float(input(\"Nota 1: \"))\n",
    "nota2 = float(input(\"Nota 2: \"))\n",
    "media = (nota1+nota2)/2\n",
    "print(\"Média: \", media)\n",
    "if media < 5:\n",
    "    print(\"Reprovado!\")\n",
    "elif media <= 6.9 and media >= 5:\n",
    "    print(\"Recuperação!\")\n",
    "else:\n",
    "    print(\"Aprovado!\")"
   ]
  },
  {
   "cell_type": "code",
   "execution_count": null,
   "id": "0c7bb242",
   "metadata": {},
   "outputs": [],
   "source": []
  }
 ],
 "metadata": {
  "kernelspec": {
   "display_name": "Python 3 (ipykernel)",
   "language": "python",
   "name": "python3"
  },
  "language_info": {
   "codemirror_mode": {
    "name": "ipython",
    "version": 3
   },
   "file_extension": ".py",
   "mimetype": "text/x-python",
   "name": "python",
   "nbconvert_exporter": "python",
   "pygments_lexer": "ipython3",
   "version": "3.10.6"
  }
 },
 "nbformat": 4,
 "nbformat_minor": 5
}
