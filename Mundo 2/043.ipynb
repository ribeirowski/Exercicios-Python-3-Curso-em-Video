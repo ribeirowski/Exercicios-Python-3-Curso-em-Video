{
 "cells": [
  {
   "cell_type": "markdown",
   "id": "01cbc828",
   "metadata": {},
   "source": [
    "Desenvolva uma lógica que leia o peso e a altura de uma pessoa, calcule seu Índice de Massa Corporal (IMC) e mostre seu status, de acordo com a tabela abaixo:\n",
    "- IMC abaixo de 18,5: Abaixo do Peso\n",
    "- Entre 18,5 e 25: Peso Ideal\n",
    "- 25 até 30: Sobrepeso\n",
    "- 30 até 40: Obesidade\n",
    "- Acima de 40: Obesidade Mórbida"
   ]
  },
  {
   "cell_type": "code",
   "execution_count": null,
   "id": "8e723d68",
   "metadata": {},
   "outputs": [],
   "source": []
  }
 ],
 "metadata": {
  "kernelspec": {
   "display_name": "Python 3 (ipykernel)",
   "language": "python",
   "name": "python3"
  },
  "language_info": {
   "codemirror_mode": {
    "name": "ipython",
    "version": 3
   },
   "file_extension": ".py",
   "mimetype": "text/x-python",
   "name": "python",
   "nbconvert_exporter": "python",
   "pygments_lexer": "ipython3",
   "version": "3.10.4"
  }
 },
 "nbformat": 4,
 "nbformat_minor": 5
}
