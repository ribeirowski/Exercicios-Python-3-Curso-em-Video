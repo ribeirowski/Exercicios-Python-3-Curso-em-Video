{
 "cells": [
  {
   "cell_type": "markdown",
   "id": "31db6984",
   "metadata": {},
   "source": [
    "Ler um número inteiro e mostrar o seu antecessor e seu sucessor"
   ]
  },
  {
   "cell_type": "code",
   "execution_count": 1,
   "id": "ed12ad6f",
   "metadata": {},
   "outputs": [
    {
     "name": "stdout",
     "output_type": "stream",
     "text": [
      "Digite um valor:10\n",
      "Você escolheu o valor 10! O seu antecessor é 9 e o seu sucessor é 11.\n"
     ]
    }
   ],
   "source": [
    "n1= int(input(\"Digite um valor:\"))\n",
    "n2= n1 - 1\n",
    "n3= n1 + 1\n",
    "print(\"Você escolheu o valor {}! O seu antecessor é {} e o seu sucessor é {}.\".format(n1, n2, n3))"
   ]
  }
 ],
 "metadata": {
  "kernelspec": {
   "display_name": "Python 3",
   "language": "python",
   "name": "python3"
  },
  "language_info": {
   "codemirror_mode": {
    "name": "ipython",
    "version": 3
   },
   "file_extension": ".py",
   "mimetype": "text/x-python",
   "name": "python",
   "nbconvert_exporter": "python",
   "pygments_lexer": "ipython3",
   "version": "3.8.5"
  }
 },
 "nbformat": 4,
 "nbformat_minor": 5
}
