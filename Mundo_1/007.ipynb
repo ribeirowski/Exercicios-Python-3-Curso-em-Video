{
 "cells": [
  {
   "cell_type": "markdown",
   "id": "31db6984",
   "metadata": {},
   "source": [
    "Ler um número e mostrar o seu dobro, triplo e sua raiz quadrada"
   ]
  },
  {
   "cell_type": "code",
   "execution_count": 1,
   "id": "ed12ad6f",
   "metadata": {},
   "outputs": [
    {
     "name": "stdout",
     "output_type": "stream",
     "text": [
      "Digite um valor:25\n",
      "Você escolheu o valor 25! O dobro de 25 é 50, o tripo é 75 e sua raiz quadrada é 5.\n"
     ]
    }
   ],
   "source": [
    "n1= int(input(\"Digite um valor:\"))\n",
    "n2= int(n1 * 2)\n",
    "n3= int(n1 * 3)\n",
    "n4= int(n1 ** (1/2))\n",
    "print(\"Você escolheu o valor {}! O dobro de {} é {}, o tripo é {} e sua raiz quadrada é {}.\".format(n1, n1, n2, n3, n4))"
   ]
  }
 ],
 "metadata": {
  "kernelspec": {
   "display_name": "Python 3",
   "language": "python",
   "name": "python3"
  },
  "language_info": {
   "codemirror_mode": {
    "name": "ipython",
    "version": 3
   },
   "file_extension": ".py",
   "mimetype": "text/x-python",
   "name": "python",
   "nbconvert_exporter": "python",
   "pygments_lexer": "ipython3",
   "version": "3.8.5"
  }
 },
 "nbformat": 4,
 "nbformat_minor": 5
}
