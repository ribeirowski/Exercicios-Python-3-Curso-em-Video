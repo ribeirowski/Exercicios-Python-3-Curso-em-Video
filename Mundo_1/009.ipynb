{
 "cells": [
  {
   "cell_type": "markdown",
   "id": "31db6984",
   "metadata": {},
   "source": [
    "Ler um valor em METROS e mostrar ele convertido em CENTIMETROS e MILIMETROS"
   ]
  },
  {
   "cell_type": "code",
   "execution_count": 3,
   "id": "ed12ad6f",
   "metadata": {},
   "outputs": [
    {
     "name": "stdout",
     "output_type": "stream",
     "text": [
      "Digite o seu nome:Ênio\n",
      "Olá,  Ênio ! Seja muito bem-vindo(a)!\n",
      "-------------------------------------------------------------------\n",
      "Digite a sua altura (em metros):1.74\n",
      "===================================================================\n",
      "Olá, Ênio! A sua altura é 1.74 m ou 174.0 cm ou ainda 1740.0 mm.\n"
     ]
    }
   ],
   "source": [
    "name= input(\"Digite o seu nome:\")\n",
    "print(\"Olá, \", name, \"! Seja muito bem-vindo(a)!\")\n",
    "print(\"-------------------------------------------------------------------\")\n",
    "m = float(input(\"Digite a sua altura (em metros):\"))\n",
    "cm = m*100\n",
    "mm = m*1000\n",
    "print(\"===================================================================\")\n",
    "print(\"Olá, {}! A sua altura é {} m ou {} cm ou ainda {} mm.\".format(name, m, cm, mm))"
   ]
  }
 ],
 "metadata": {
  "kernelspec": {
   "display_name": "Python 3",
   "language": "python",
   "name": "python3"
  },
  "language_info": {
   "codemirror_mode": {
    "name": "ipython",
    "version": 3
   },
   "file_extension": ".py",
   "mimetype": "text/x-python",
   "name": "python",
   "nbconvert_exporter": "python",
   "pygments_lexer": "ipython3",
   "version": "3.8.5"
  }
 },
 "nbformat": 4,
 "nbformat_minor": 5
}
