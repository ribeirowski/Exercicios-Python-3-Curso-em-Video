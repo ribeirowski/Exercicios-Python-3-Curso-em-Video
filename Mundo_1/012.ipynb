{
 "cells": [
  {
   "cell_type": "markdown",
   "id": "31db6984",
   "metadata": {},
   "source": [
    "Ler a largura e altura de uma parede em METROS e calcular sua área e a quantidade de tinta necessária (LITROS) para pintá-la (1L de tinta pinta uma área de 2m²)"
   ]
  },
  {
   "cell_type": "code",
   "execution_count": 4,
   "id": "ed12ad6f",
   "metadata": {},
   "outputs": [
    {
     "name": "stdout",
     "output_type": "stream",
     "text": [
      "Digite o seu nome:Ênio\n",
      "Olá,  Ênio ! Seja muito bem-vindo(a)!\n",
      "------------------------------------------------------------------\n",
      "Digite a altura da sua parede (em metros):1.75\n",
      "Digite a largura da sua parede (em metros):1.25\n",
      "==================================================================\n",
      "Olá, Ênio! A área da sua parede é de 2.1875 m^2.\n",
      "Serão necessários 1.09375 L de tinta para pintar a sua parede.\n"
     ]
    }
   ],
   "source": [
    "name= input(\"Digite o seu nome:\")\n",
    "print(\"Olá, \", name, \"! Seja muito bem-vindo(a)!\")\n",
    "print(\"------------------------------------------------------------------\")\n",
    "al = float(input(\"Digite a altura da sua parede (em metros):\"))\n",
    "la = float(input(\"Digite a largura da sua parede (em metros):\"))\n",
    "area = al*la\n",
    "tinta = area/2\n",
    "print(\"==================================================================\")\n",
    "print(\"Olá, {}! A área da sua parede é de {} m^2.\".format(name, area))\n",
    "print(\"Serão necessários {} L de tinta para pintar a sua parede.\".format(tinta))"
   ]
  }
 ],
 "metadata": {
  "kernelspec": {
   "display_name": "Python 3",
   "language": "python",
   "name": "python3"
  },
  "language_info": {
   "codemirror_mode": {
    "name": "ipython",
    "version": 3
   },
   "file_extension": ".py",
   "mimetype": "text/x-python",
   "name": "python",
   "nbconvert_exporter": "python",
   "pygments_lexer": "ipython3",
   "version": "3.8.5"
  }
 },
 "nbformat": 4,
 "nbformat_minor": 5
}
