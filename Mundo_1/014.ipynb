{
 "cells": [
  {
   "cell_type": "markdown",
   "id": "31db6984",
   "metadata": {},
   "source": [
    "Ler o salário de um funcionário e mostrar o novo salário com um aumento de 15%"
   ]
  },
  {
   "cell_type": "code",
   "execution_count": 4,
   "id": "ed12ad6f",
   "metadata": {},
   "outputs": [
    {
     "name": "stdout",
     "output_type": "stream",
     "text": [
      "Digite o seu nome:Ênio\n",
      "Olá,  Ênio ! Seja muito bem-vindo(a)!\n",
      "------------------------------------------------------------------\n",
      "Digite o valor do seu salário (R$):100\n",
      "==================================================================\n",
      "Olá, Ênio! O valor do seu salário é R$100.0. Com o aumento de R$15.0 (15%) o valor agora é R$115.0.\n"
     ]
    }
   ],
   "source": [
    "name= input(\"Digite o seu nome:\")\n",
    "print(\"Olá, \", name, \"! Seja muito bem-vindo(a)!\")\n",
    "print(\"------------------------------------------------------------------\")\n",
    "salario = float(input(\"Digite o valor do seu salário (R$):\"))\n",
    "aumento = float(salario*0.15)\n",
    "valor = salario + aumento\n",
    "print(\"==================================================================\")\n",
    "print(\"Olá, {}! O valor do seu salário é R${}. Com o aumento de R${} (15%) o valor agora é R${}.\".format(name, salario, aumento, valor))"
   ]
  }
 ],
 "metadata": {
  "kernelspec": {
   "display_name": "Python 3",
   "language": "python",
   "name": "python3"
  },
  "language_info": {
   "codemirror_mode": {
    "name": "ipython",
    "version": 3
   },
   "file_extension": ".py",
   "mimetype": "text/x-python",
   "name": "python",
   "nbconvert_exporter": "python",
   "pygments_lexer": "ipython3",
   "version": "3.8.5"
  }
 },
 "nbformat": 4,
 "nbformat_minor": 5
}
